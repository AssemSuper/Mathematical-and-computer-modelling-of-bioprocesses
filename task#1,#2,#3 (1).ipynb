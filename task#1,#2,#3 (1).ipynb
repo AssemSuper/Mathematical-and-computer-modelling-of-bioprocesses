{
 "cells": [
  {
   "cell_type": "code",
   "execution_count": 217,
   "metadata": {
    "collapsed": false
   },
   "outputs": [
    {
     "name": "stdout",
     "output_type": "stream",
     "text": [
      "[ 489.   516.   502.5]\n",
      "103.0\n",
      "[103 583  18]\n",
      "[[103 825 847 ..., 480 913  88]\n",
      " [583 596 934 ..., 163 908 231]\n",
      " [ 18 921 432 ...,  90   5   9]]\n",
      "343.0\n",
      "489.0 516.0 502.5\n"
     ]
    }
   ],
   "source": [
    "\n",
    "\n",
    "#task 1\n",
    "import numpy as np\n",
    "a=np.random.randint(1000,size=1000)\n",
    "b=np.random.randint(1000,size=1000)\n",
    "c=np.random.randint(1000,size=1000)\n",
    "l=np.vstack((a,b,c))\n",
    "median=np.median(l,axis=1)\n",
    "#print(l.shape) (3, 1000)\n",
    "\n",
    "print(median)\n",
    "#col_1 = median[0]\n",
    "#col1=np.median(l,axis=0)\n",
    "col_1=l[:,0]\n",
    "forst_column=np.median(col_1)\n",
    "print(forst_column)\n",
    "print(col_1)\n",
    "print(l)\n",
    "vals =l[:, 0][0:2]\n",
    "fc=np.median(vals)\n",
    "print(fc)\n",
    "med1=np.median(a)\n",
    "med2=np.median(b)\n",
    "med3=np.median(c)\n",
    "print(med1,med2,med3)# there are small difference between patients a, b and c \n",
    "\n"
   ]
  },
  {
   "cell_type": "code",
   "execution_count": 218,
   "metadata": {
    "collapsed": false
   },
   "outputs": [
    {
     "name": "stdout",
     "output_type": "stream",
     "text": [
      "Ttest_indResult(statistic=-0.0244185056038832, pvalue=0.98082074049002177)\n"
     ]
    }
   ],
   "source": [
    "#task 2\n",
    "import pandas as pd\n",
    "\n",
    "import scipy\n",
    "from scipy import stats\n",
    "import numpy as np\n",
    "filepath=r\"C:\\Users\\Assem\\Downloads\\countries_protein_consumption.csv\"\n",
    "df = pd.read_csv(filepath )\n",
    "\n",
    "df2=df.drop('Country', axis=1)\n",
    "s1=scipy.stats.ttest_ind(df2.values[1],df2.values[2],axis=0, equal_var = True)\n",
    "#s=scipy.stats.ttest_ind(df.iloc[0],df.iloc[2],axis=1, equal_var = False)\n",
    "#print(ind_t_test = stats.ttest_ind(df.value[df.names == 'Austria'],df.value[df.names == 'Belgium']))\n",
    "#print(df.columns.values)\n",
    "#print(df.drop('Country', axis=1))\n",
    "#print(df2.values)\n",
    "#print(df) \n",
    "print(s1)#pvalue=0.98082074049002177 we have large p value,which is  good.This shows that data is more likely to  occur by chance \n",
    "#From point of Null hypothesis we accept this hypothesis "
   ]
  },
  {
   "cell_type": "code",
   "execution_count": 219,
   "metadata": {
    "collapsed": false
   },
   "outputs": [
    {
     "name": "stdout",
     "output_type": "stream",
     "text": [
      "The classification model's accuracy is:  0.943333333333\n"
     ]
    }
   ],
   "source": [
    "#task 3\n",
    "import pandas as pd \n",
    "from sklearn.ensemble import RandomForestClassifier\n",
    "from sklearn.model_selection import train_test_split\n",
    "\n",
    "\n",
    "filepath1=r\"C:\\Users\\Assem\\Downloads\\amazon_train_data_sample.csv\"\n",
    "data=pd.read_csv(filepath1)\n",
    "#print(data)\n",
    "#data.index=data['ACTION']\n",
    "data1=data.drop('ACTION',axis=1)\n",
    "#y=data['ACTION'].values\n",
    "\n",
    "X=data[['RESOURCE', 'MGR_ID', 'ROLE_ROLLUP_1', 'ROLE_ROLLUP_2', 'ROLE_DEPTNAME',\n",
    "       'ROLE_TITLE', 'ROLE_FAMILY_DESC', 'ROLE_FAMILY', 'ROLE_CODE']]\n",
    "y=data['ACTION']\n",
    "#X = data1.transpose().values\n",
    "X_train, X_test, y_train, y_test = train_test_split(X, y, test_size = 0.30)\n",
    "model = RandomForestClassifier(n_estimators = 50)\n",
    "model.fit(X_train, y_train)\n",
    "y_pred=model.predict(X_test)\n",
    "score = model.score(X_test, y_test)\n",
    "print(\"The classification model's accuracy is: \", score)\n",
    "\n"
   ]
  },
  {
   "cell_type": "code",
   "execution_count": null,
   "metadata": {
    "collapsed": false,
    "scrolled": false
   },
   "outputs": [],
   "source": [
    "#task 3\n",
    "import pandas as pd \n",
    "from sklearn.ensemble import RandomForestClassifier\n",
    "from sklearn.model_selection import train_test_split\n",
    "\n",
    "\n",
    "filepath1=r\"C:\\Users\\Assem\\Downloads\\amazon_train_data_sample.csv\"\n",
    "data=pd.read_csv(filepath1)\n",
    "#print(data)\n",
    "#data.index=data['ACTION']\n",
    "data1=data.drop('ACTION',axis=1)\n",
    "#y=data['ACTION'].values\n",
    "\n",
    "X=data[['RESOURCE', 'MGR_ID', 'ROLE_ROLLUP_1', 'ROLE_ROLLUP_2', 'ROLE_DEPTNAME',\n",
    "       'ROLE_TITLE', 'ROLE_FAMILY_DESC', 'ROLE_FAMILY', 'ROLE_CODE']]\n",
    "y=data['ACTION']\n",
    "#X = data1.transpose().values\n",
    "X_train, X_test, y_train, y_test = train_test_split(X, y, test_size = 0.30)\n",
    "model = RandomForestClassifier(n_estimators = 50)\n",
    "model.fit(X_train, y_train)\n",
    "y_pred=model.predict(X_test)\n",
    "score = model.score(X_test, y_test)\n",
    "print(\"The classification model's accuracy is: \", score)\n",
    "\n",
    "\n"
   ]
  },
  {
   "cell_type": "code",
   "execution_count": 211,
   "metadata": {
    "collapsed": false
   },
   "outputs": [
    {
     "name": "stdout",
     "output_type": "stream",
     "text": [
      "The classification model's accuracy is:  0.956666666667\n"
     ]
    }
   ],
   "source": [
    "#task 3\n",
    "import pandas as pd \n",
    "from sklearn.ensemble import RandomForestClassifier\n",
    "from sklearn.model_selection import train_test_split\n",
    "\n",
    "\n",
    "filepath1=r\"C:\\Users\\Assem\\Downloads\\amazon_train_data_sample.csv\"\n",
    "data=pd.read_csv(filepath1)\n",
    "#print(data)\n",
    "#data.index=data['ACTION']\n",
    "data1=data.drop('ACTION',axis=1)\n",
    "#y=data['ACTION'].values\n",
    "\n",
    "X=data[['RESOURCE', 'MGR_ID', 'ROLE_ROLLUP_1', 'ROLE_ROLLUP_2', 'ROLE_DEPTNAME',\n",
    "       'ROLE_TITLE', 'ROLE_FAMILY_DESC', 'ROLE_FAMILY', 'ROLE_CODE']]\n",
    "y=data['ACTION']\n",
    "#X = data1.transpose().values\n",
    "X_train, X_test, y_train, y_test = train_test_split(X, y, test_size = 0.30)\n",
    "model = RandomForestClassifier(n_estimators = 50)\n",
    "model.fit(X_train, y_train)\n",
    "y_pred=model.predict(X_test)\n",
    "score = model.score(X_test, y_test)\n",
    "print(\"The classification model's accuracy is: \", score)\n",
    "\n"
   ]
  },
  {
   "cell_type": "code",
   "execution_count": 209,
   "metadata": {
    "collapsed": false
   },
   "outputs": [
    {
     "name": "stdout",
     "output_type": "stream",
     "text": [
      "[ 0.5488135  0.4236548]\n"
     ]
    }
   ],
   "source": []
  },
  {
   "cell_type": "code",
   "execution_count": null,
   "metadata": {
    "collapsed": true
   },
   "outputs": [],
   "source": [
    "#task 1\n",
    "a=np.random.randint(1000,size=1000)\n",
    "b=np.random.randint(1000,size=1000)\n",
    "c=np.random.randint(1000,size=1000)\n",
    "l=np.vstack((a,b,c))\n",
    "median=np.median(l,axis=1)\n",
    "#print(l.shape) (3, 1000)\n",
    "\n",
    "print(median)\n",
    "#col_1 = median[0]\n",
    "#col1=np.median(l,axis=0)\n",
    "col_1=l[:,0]\n",
    "forst_column=np.median(col_1)\n",
    "print(forst_column)\n",
    "print(col_1)\n",
    "print(l)\n",
    "vals =l[:, 0][0:2]\n",
    "fc=np.median(vals)\n",
    "print(fc)\n",
    "med1=np.median(a)\n",
    "med2=np.median(b)\n",
    "med3=np.median(c)\n",
    "print(med1,med2,med3)# there are small difference between patients a, b and c \n",
    "\n"
   ]
  }
 ],
 "metadata": {
  "kernelspec": {
   "display_name": "Python 3",
   "language": "python",
   "name": "python3"
  },
  "language_info": {
   "codemirror_mode": {
    "name": "ipython",
    "version": 3
   },
   "file_extension": ".py",
   "mimetype": "text/x-python",
   "name": "python",
   "nbconvert_exporter": "python",
   "pygments_lexer": "ipython3",
   "version": "3.6.0"
  }
 },
 "nbformat": 4,
 "nbformat_minor": 2
}
