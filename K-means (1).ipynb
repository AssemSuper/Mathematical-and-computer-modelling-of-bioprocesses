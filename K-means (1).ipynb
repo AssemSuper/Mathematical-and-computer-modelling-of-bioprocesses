{
 "cells": [
  {
   "cell_type": "code",
   "execution_count": 5,
   "metadata": {
    "collapsed": false
   },
   "outputs": [
    {
     "name": "stdout",
     "output_type": "stream",
     "text": [
      "[[ 26.5         50.          71.75        42.75        54.5         50.75\n",
      "   75.25        32.5         39.25        62.        ]\n",
      " [ 49.66666667  80.66666667  75.16666667  79.33333333  79.83333333\n",
      "   76.33333333  90.5         74.          65.16666667  63.83333333]\n",
      " [  9.66666667  12.16666667  31.16666667   9.5         22.16666667\n",
      "   20.83333333  20.          23.5         50.83333333  19.33333333]\n",
      " [ 32.          24.5         11.          72.5         26.          34.\n",
      "   61.           6.5          5.5         56.        ]\n",
      " [ 51.          52.5         95.          54.          79.5         89.5\n",
      "   53.          67.          84.          73.        ]]\n"
     ]
    },
    {
     "data": {
      "image/png": "[encoded data removed]",
      "text/plain": [
       "<matplotlib.figure.Figure at 0x19bf6dd0c88>"
      ]
     },
     "metadata": {},
     "output_type": "display_data"
    }
   ],
   "source": [
    "import pandas as pd\n",
    "import numpy as np\n",
    "import matplotlib.pyplot as plt\n",
    "%matplotlib inline\n",
    "from pandas import DataFrame\n",
    "import matplotlib.pyplot as plt\n",
    "from sklearn.cluster import KMeans\n",
    "\n",
    "df=pd.DataFrame({\"Germany\":[90, 49, 88, 19, 57, 51, 19, 21, 27, 21, 81, 75, 44, 71, 22, 91, 85, 74, 30, 26],\n",
    "              \"France\":[88, 42, 63, 4, 76, 53, 11, 23, 11, 5, 87, 84, 40, 45, 88, 94, 47, 36, 57, 3],\n",
    "              \"Holand\":[96, 62, 98, 32, 62, 67, 43, 7, 14, 14, 83, 89, 61, 81, 15, 31, 97, 13, 53, 15],\n",
    "              \"Belgium\":[94, 38, 48, 11, 74, 37, 23, 9, 13, 12, 76, 76, 42, 57, 29, 84, 80, 83, 20, 5],\n",
    "              \"Luxemburg\":[97, 61, 86, 28, 79, 73, 12, 7, 26, 23, 85, 94, 83, 20, 91, 94, 94, 84, 31, 24],\n",
    "              \"England\":[27, 86, 99, 22, 91, 55, 76, 17, 20, 24, 76, 68, 89, 91, 11, 95, 94, 57, 11, 28],\n",
    "              \"Austria\":[55, 31, 61, 15, 29, 33, 1, 5, 15, 11, 49, 42, 14, 41, 51, 51, 72, 28, 13, 11],\n",
    "              \"Switzerland\":[73, 72, 85, 25, 31, 69, 10, 17, 19, 15, 79, 70, 46, 61, 64, 82, 48, 61, 48, 30],\n",
    "              \"Sweden\":[97, 13, 93, 31, 60, 43, 43, 39, 54, 45, 56, 78, 53, 75, 9, 68, 32, 48, 2, 93],\n",
    "              \"Norway\":[92, 17, 83, 13, 62, 51, 4, 17, 30, 15, 61, 72, 34, 51, 11, 63, 94, 28, 2, 62]})\n",
    "#k=[\"Germany\", \"France\", \"Holand\", \"Belgium\", \"Luxemburg\", \"England\", \"Austria\", \"Switzerland\", \"Sweden\", \"Norway\"]\n",
    "#print(df)\n",
    "kmeans = KMeans(n_clusters=5).fit(df)\n",
    "centroids = kmeans.cluster_centers_\n",
    "print(centroids)\n",
    "plt.scatter(df['Germany'], df['France'], c= kmeans.labels_.astype(float), s=50, alpha=0.5)\n",
    "plt.scatter(centroids[:, 0], centroids[:, 1], c='red', s=50)\n",
    "plt.show()"
   ]
  },
  {
   "cell_type": "code",
   "execution_count": null,
   "metadata": {
    "collapsed": true
   },
   "outputs": [],
   "source": []
  },
  {
   "cell_type": "code",
   "execution_count": null,
   "metadata": {
    "collapsed": true
   },
   "outputs": [],
   "source": []
  }
 ],
 "metadata": {
  "kernelspec": {
   "display_name": "Python 3",
   "language": "python",
   "name": "python3"
  },
  "language_info": {
   "codemirror_mode": {
    "name": "ipython",
    "version": 3
   },
   "file_extension": ".py",
   "mimetype": "text/x-python",
   "name": "python",
   "nbconvert_exporter": "python",
   "pygments_lexer": "ipython3",
   "version": "3.6.0"
  }
 },
 "nbformat": 4,
 "nbformat_minor": 2
}
